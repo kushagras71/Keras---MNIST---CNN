{
 "cells": [
  {
   "cell_type": "code",
   "execution_count": 2,
   "metadata": {},
   "outputs": [],
   "source": [
    "import pandas as pd\n",
    "import numpy as np\n",
    "import matplotlib.pyplot as plt"
   ]
  },
  {
   "cell_type": "code",
   "execution_count": 3,
   "metadata": {},
   "outputs": [],
   "source": [
    "#Importing the dataset\n",
    "from tensorflow.keras.datasets import mnist\n",
    "(x_train,y_train),(x_test,y_test) = mnist.load_data()"
   ]
  },
  {
   "cell_type": "code",
   "execution_count": 4,
   "metadata": {},
   "outputs": [],
   "source": [
    "# Preprocessing \n",
    "x_train = x_train.reshape(60000,28,28,1)\n",
    "x_test = x_test.reshape(10000,28,28,1)\n",
    "x_train = x_train/255\n",
    "x_test = x_test/255"
   ]
  },
  {
   "cell_type": "code",
   "execution_count": 5,
   "metadata": {},
   "outputs": [],
   "source": [
    "#One-Hot Encoding\n",
    "from tensorflow.keras.utils import to_categorical\n",
    "y_cat_train = to_categorical(y_train,num_classes=10)\n",
    "y_cat_test = to_categorical(y_test,num_classes=10)"
   ]
  },
  {
   "cell_type": "code",
   "execution_count": 18,
   "metadata": {},
   "outputs": [
    {
     "data": {
      "text/plain": [
       "<matplotlib.image.AxesImage at 0x2312d622b88>"
      ]
     },
     "execution_count": 18,
     "metadata": {},
     "output_type": "execute_result"
    },
    {
     "data": {
      "image/png": "[encoded data removed]",
      "text/plain": [
       "<Figure size 432x288 with 1 Axes>"
      ]
     },
     "metadata": {
      "needs_background": "light"
     },
     "output_type": "display_data"
    }
   ],
   "source": [
    "#Sample Image\n",
    "plt.imshow(x_train[7].reshape(28,28))"
   ]
  },
  {
   "cell_type": "code",
   "execution_count": 6,
   "metadata": {},
   "outputs": [],
   "source": [
    "#Creating the model\n",
    "from tensorflow.keras.models import Sequential\n",
    "from tensorflow.keras.layers import Dense,Conv2D,MaxPooling2D,Flatten\n",
    "model = Sequential()\n",
    "model.add(Conv2D(filters=32,activation='relu',kernel_size=(4,4),input_shape=(28,28,1)))\n",
    "model.add(Conv2D(filters=64,activation='relu',kernel_size=(3,3),input_shape=(28,28,1)))\n",
    "model.add(Conv2D(filters=64,activation='relu',kernel_size=(2,2),input_shape=(28,28,1)))\n",
    "model.add(MaxPooling2D(pool_size=(2,2)))\n",
    "model.add(MaxPooling2D(pool_size=(2,2)))\n",
    "model.add(Flatten())\n",
    "model.add(Dense(units=128,activation='relu'))\n",
    "model.add(Dense(units=10,activation='softmax'))\n",
    "model.compile(optimizer='adam',loss='categorical_crossentropy',metrics=['accuracy'])\n"
   ]
  },
  {
   "cell_type": "code",
   "execution_count": 7,
   "metadata": {},
   "outputs": [
    {
     "name": "stdout",
     "output_type": "stream",
     "text": [
      "Model: \"sequential\"\n",
      "_________________________________________________________________\n",
      "Layer (type)                 Output Shape              Param #   \n",
      "=================================================================\n",
      "conv2d (Conv2D)              (None, 25, 25, 32)        544       \n",
      "_________________________________________________________________\n",
      "conv2d_1 (Conv2D)            (None, 23, 23, 64)        18496     \n",
      "_________________________________________________________________\n",
      "conv2d_2 (Conv2D)            (None, 22, 22, 64)        16448     \n",
      "_________________________________________________________________\n",
      "max_pooling2d (MaxPooling2D) (None, 11, 11, 64)        0         \n",
      "_________________________________________________________________\n",
      "max_pooling2d_1 (MaxPooling2 (None, 5, 5, 64)          0         \n",
      "_________________________________________________________________\n",
      "flatten (Flatten)            (None, 1600)              0         \n",
      "_________________________________________________________________\n",
      "dense (Dense)                (None, 128)               204928    \n",
      "_________________________________________________________________\n",
      "dense_1 (Dense)              (None, 10)                1290      \n",
      "=================================================================\n",
      "Total params: 241,706\n",
      "Trainable params: 241,706\n",
      "Non-trainable params: 0\n",
      "_________________________________________________________________\n"
     ]
    }
   ],
   "source": [
    "#Model summary\n",
    "model.summary()"
   ]
  },
  {
   "cell_type": "code",
   "execution_count": 8,
   "metadata": {},
   "outputs": [
    {
     "name": "stdout",
     "output_type": "stream",
     "text": [
      "Train on 60000 samples, validate on 10000 samples\n",
      "Epoch 1/27\n",
      "60000/60000 [==============================] - 52s 871us/sample - loss: 0.1232 - accuracy: 0.9608 - val_loss: 0.0530 - val_accuracy: 0.9821\n",
      "Epoch 2/27\n",
      "60000/60000 [==============================] - 65s 1ms/sample - loss: 0.0432 - accuracy: 0.9868 - val_loss: 0.0355 - val_accuracy: 0.9880\n",
      "Epoch 3/27\n",
      "60000/60000 [==============================] - 61s 1ms/sample - loss: 0.0302 - accuracy: 0.9902 - val_loss: 0.0318 - val_accuracy: 0.9898\n",
      "Epoch 4/27\n",
      "60000/60000 [==============================] - 43s 713us/sample - loss: 0.0234 - accuracy: 0.9925 - val_loss: 0.0425 - val_accuracy: 0.9868\n",
      "Epoch 5/27\n",
      "60000/60000 [==============================] - 42s 694us/sample - loss: 0.0189 - accuracy: 0.9937 - val_loss: 0.0356 - val_accuracy: 0.9898\n",
      "Epoch 6/27\n",
      "60000/60000 [==============================] - 42s 697us/sample - loss: 0.0136 - accuracy: 0.9957 - val_loss: 0.0273 - val_accuracy: 0.9921\n",
      "Epoch 7/27\n",
      "60000/60000 [==============================] - 42s 693us/sample - loss: 0.0126 - accuracy: 0.9958 - val_loss: 0.0314 - val_accuracy: 0.9909\n",
      "Epoch 8/27\n",
      "60000/60000 [==============================] - 42s 693us/sample - loss: 0.0101 - accuracy: 0.9966 - val_loss: 0.0357 - val_accuracy: 0.9908\n",
      "Epoch 9/27\n",
      "60000/60000 [==============================] - 42s 695us/sample - loss: 0.0083 - accuracy: 0.9974 - val_loss: 0.0304 - val_accuracy: 0.9915\n",
      "Epoch 10/27\n",
      "60000/60000 [==============================] - 42s 703us/sample - loss: 0.0080 - accuracy: 0.9972 - val_loss: 0.0325 - val_accuracy: 0.9923\n",
      "Epoch 11/27\n",
      "60000/60000 [==============================] - 42s 696us/sample - loss: 0.0061 - accuracy: 0.9980 - val_loss: 0.0286 - val_accuracy: 0.9938\n",
      "Epoch 12/27\n",
      "60000/60000 [==============================] - 42s 693us/sample - loss: 0.0066 - accuracy: 0.9977 - val_loss: 0.0322 - val_accuracy: 0.9934\n",
      "Epoch 13/27\n",
      "60000/60000 [==============================] - 42s 693us/sample - loss: 0.0058 - accuracy: 0.9981 - val_loss: 0.0346 - val_accuracy: 0.9925\n",
      "Epoch 14/27\n",
      "60000/60000 [==============================] - 42s 693us/sample - loss: 0.0064 - accuracy: 0.9980 - val_loss: 0.0363 - val_accuracy: 0.9928\n",
      "Epoch 15/27\n",
      "60000/60000 [==============================] - 42s 696us/sample - loss: 0.0045 - accuracy: 0.9986 - val_loss: 0.0332 - val_accuracy: 0.9930\n",
      "Epoch 16/27\n",
      "60000/60000 [==============================] - 42s 700us/sample - loss: 0.0049 - accuracy: 0.9986 - val_loss: 0.0564 - val_accuracy: 0.9906\n",
      "Epoch 17/27\n",
      "60000/60000 [==============================] - 42s 700us/sample - loss: 0.0055 - accuracy: 0.9984 - val_loss: 0.0429 - val_accuracy: 0.9938\n",
      "Epoch 18/27\n",
      "60000/60000 [==============================] - 42s 694us/sample - loss: 0.0057 - accuracy: 0.9983 - val_loss: 0.0437 - val_accuracy: 0.9911\n",
      "Epoch 19/27\n",
      "60000/60000 [==============================] - 42s 701us/sample - loss: 0.0048 - accuracy: 0.9986 - val_loss: 0.0432 - val_accuracy: 0.9920\n",
      "Epoch 20/27\n",
      "60000/60000 [==============================] - 42s 701us/sample - loss: 0.0041 - accuracy: 0.9986 - val_loss: 0.0518 - val_accuracy: 0.9926\n",
      "Epoch 21/27\n",
      "60000/60000 [==============================] - 42s 701us/sample - loss: 0.0048 - accuracy: 0.9986 - val_loss: 0.0411 - val_accuracy: 0.9917\n",
      "Epoch 22/27\n",
      "60000/60000 [==============================] - 42s 702us/sample - loss: 0.0045 - accuracy: 0.9986 - val_loss: 0.0607 - val_accuracy: 0.9914\n",
      "Epoch 23/27\n",
      "60000/60000 [==============================] - 42s 698us/sample - loss: 0.0044 - accuracy: 0.9986 - val_loss: 0.0491 - val_accuracy: 0.9926\n",
      "Epoch 24/27\n",
      "60000/60000 [==============================] - 42s 694us/sample - loss: 0.0036 - accuracy: 0.9991 - val_loss: 0.0552 - val_accuracy: 0.9920\n",
      "Epoch 25/27\n",
      "60000/60000 [==============================] - 42s 692us/sample - loss: 0.0059 - accuracy: 0.9983 - val_loss: 0.0507 - val_accuracy: 0.9920\n",
      "Epoch 26/27\n",
      "60000/60000 [==============================] - 42s 700us/sample - loss: 0.0021 - accuracy: 0.9995 - val_loss: 0.0483 - val_accuracy: 0.9925\n",
      "Epoch 27/27\n",
      "60000/60000 [==============================] - 42s 701us/sample - loss: 0.0067 - accuracy: 0.9982 - val_loss: 0.0478 - val_accuracy: 0.9927\n"
     ]
    },
    {
     "data": {
      "text/plain": [
       "<tensorflow.python.keras.callbacks.History at 0x230a270ae08>"
      ]
     },
     "execution_count": 8,
     "metadata": {},
     "output_type": "execute_result"
    }
   ],
   "source": [
    "#Fit the training data to the model and using the test data for validation\n",
    "model.fit(x=x_train,y=y_cat_train,epochs=27,validation_data=(x_test,y_cat_test))\n"
   ]
  },
  {
   "cell_type": "code",
   "execution_count": 28,
   "metadata": {},
   "outputs": [
    {
     "data": {
      "text/html": [
       "<div>\n",
       "<style scoped>\n",
       "    .dataframe tbody tr th:only-of-type {\n",
       "        vertical-align: middle;\n",
       "    }\n",
       "\n",
       "    .dataframe tbody tr th {\n",
       "        vertical-align: top;\n",
       "    }\n",
       "\n",
       "    .dataframe thead th {\n",
       "        text-align: right;\n",
       "    }\n",
       "</style>\n",
       "<table border=\"1\" class=\"dataframe\">\n",
       "  <thead>\n",
       "    <tr style=\"text-align: right;\">\n",
       "      <th></th>\n",
       "      <th>loss</th>\n",
       "      <th>accuracy</th>\n",
       "      <th>val_loss</th>\n",
       "      <th>val_accuracy</th>\n",
       "    </tr>\n",
       "  </thead>\n",
       "  <tbody>\n",
       "    <tr>\n",
       "      <th>0</th>\n",
       "      <td>0.123216</td>\n",
       "      <td>0.960817</td>\n",
       "      <td>0.053032</td>\n",
       "      <td>0.9821</td>\n",
       "    </tr>\n",
       "    <tr>\n",
       "      <th>1</th>\n",
       "      <td>0.043204</td>\n",
       "      <td>0.986817</td>\n",
       "      <td>0.035467</td>\n",
       "      <td>0.9880</td>\n",
       "    </tr>\n",
       "    <tr>\n",
       "      <th>2</th>\n",
       "      <td>0.030191</td>\n",
       "      <td>0.990183</td>\n",
       "      <td>0.031807</td>\n",
       "      <td>0.9898</td>\n",
       "    </tr>\n",
       "    <tr>\n",
       "      <th>3</th>\n",
       "      <td>0.023429</td>\n",
       "      <td>0.992467</td>\n",
       "      <td>0.042528</td>\n",
       "      <td>0.9868</td>\n",
       "    </tr>\n",
       "    <tr>\n",
       "      <th>4</th>\n",
       "      <td>0.018867</td>\n",
       "      <td>0.993700</td>\n",
       "      <td>0.035567</td>\n",
       "      <td>0.9898</td>\n",
       "    </tr>\n",
       "    <tr>\n",
       "      <th>5</th>\n",
       "      <td>0.013568</td>\n",
       "      <td>0.995700</td>\n",
       "      <td>0.027317</td>\n",
       "      <td>0.9921</td>\n",
       "    </tr>\n",
       "    <tr>\n",
       "      <th>6</th>\n",
       "      <td>0.012612</td>\n",
       "      <td>0.995817</td>\n",
       "      <td>0.031371</td>\n",
       "      <td>0.9909</td>\n",
       "    </tr>\n",
       "    <tr>\n",
       "      <th>7</th>\n",
       "      <td>0.010138</td>\n",
       "      <td>0.996600</td>\n",
       "      <td>0.035731</td>\n",
       "      <td>0.9908</td>\n",
       "    </tr>\n",
       "    <tr>\n",
       "      <th>8</th>\n",
       "      <td>0.008290</td>\n",
       "      <td>0.997383</td>\n",
       "      <td>0.030387</td>\n",
       "      <td>0.9915</td>\n",
       "    </tr>\n",
       "    <tr>\n",
       "      <th>9</th>\n",
       "      <td>0.008048</td>\n",
       "      <td>0.997200</td>\n",
       "      <td>0.032518</td>\n",
       "      <td>0.9923</td>\n",
       "    </tr>\n",
       "    <tr>\n",
       "      <th>10</th>\n",
       "      <td>0.006081</td>\n",
       "      <td>0.997983</td>\n",
       "      <td>0.028627</td>\n",
       "      <td>0.9938</td>\n",
       "    </tr>\n",
       "    <tr>\n",
       "      <th>11</th>\n",
       "      <td>0.006596</td>\n",
       "      <td>0.997717</td>\n",
       "      <td>0.032229</td>\n",
       "      <td>0.9934</td>\n",
       "    </tr>\n",
       "    <tr>\n",
       "      <th>12</th>\n",
       "      <td>0.005799</td>\n",
       "      <td>0.998133</td>\n",
       "      <td>0.034605</td>\n",
       "      <td>0.9925</td>\n",
       "    </tr>\n",
       "    <tr>\n",
       "      <th>13</th>\n",
       "      <td>0.006391</td>\n",
       "      <td>0.997950</td>\n",
       "      <td>0.036274</td>\n",
       "      <td>0.9928</td>\n",
       "    </tr>\n",
       "    <tr>\n",
       "      <th>14</th>\n",
       "      <td>0.004458</td>\n",
       "      <td>0.998600</td>\n",
       "      <td>0.033195</td>\n",
       "      <td>0.9930</td>\n",
       "    </tr>\n",
       "    <tr>\n",
       "      <th>15</th>\n",
       "      <td>0.004890</td>\n",
       "      <td>0.998583</td>\n",
       "      <td>0.056385</td>\n",
       "      <td>0.9906</td>\n",
       "    </tr>\n",
       "    <tr>\n",
       "      <th>16</th>\n",
       "      <td>0.005492</td>\n",
       "      <td>0.998350</td>\n",
       "      <td>0.042876</td>\n",
       "      <td>0.9938</td>\n",
       "    </tr>\n",
       "    <tr>\n",
       "      <th>17</th>\n",
       "      <td>0.005693</td>\n",
       "      <td>0.998300</td>\n",
       "      <td>0.043668</td>\n",
       "      <td>0.9911</td>\n",
       "    </tr>\n",
       "    <tr>\n",
       "      <th>18</th>\n",
       "      <td>0.004766</td>\n",
       "      <td>0.998617</td>\n",
       "      <td>0.043226</td>\n",
       "      <td>0.9920</td>\n",
       "    </tr>\n",
       "    <tr>\n",
       "      <th>19</th>\n",
       "      <td>0.004087</td>\n",
       "      <td>0.998567</td>\n",
       "      <td>0.051839</td>\n",
       "      <td>0.9926</td>\n",
       "    </tr>\n",
       "    <tr>\n",
       "      <th>20</th>\n",
       "      <td>0.004841</td>\n",
       "      <td>0.998617</td>\n",
       "      <td>0.041093</td>\n",
       "      <td>0.9917</td>\n",
       "    </tr>\n",
       "    <tr>\n",
       "      <th>21</th>\n",
       "      <td>0.004535</td>\n",
       "      <td>0.998600</td>\n",
       "      <td>0.060740</td>\n",
       "      <td>0.9914</td>\n",
       "    </tr>\n",
       "    <tr>\n",
       "      <th>22</th>\n",
       "      <td>0.004411</td>\n",
       "      <td>0.998633</td>\n",
       "      <td>0.049145</td>\n",
       "      <td>0.9926</td>\n",
       "    </tr>\n",
       "    <tr>\n",
       "      <th>23</th>\n",
       "      <td>0.003612</td>\n",
       "      <td>0.999100</td>\n",
       "      <td>0.055198</td>\n",
       "      <td>0.9920</td>\n",
       "    </tr>\n",
       "    <tr>\n",
       "      <th>24</th>\n",
       "      <td>0.005932</td>\n",
       "      <td>0.998300</td>\n",
       "      <td>0.050741</td>\n",
       "      <td>0.9920</td>\n",
       "    </tr>\n",
       "    <tr>\n",
       "      <th>25</th>\n",
       "      <td>0.002086</td>\n",
       "      <td>0.999450</td>\n",
       "      <td>0.048295</td>\n",
       "      <td>0.9925</td>\n",
       "    </tr>\n",
       "    <tr>\n",
       "      <th>26</th>\n",
       "      <td>0.006745</td>\n",
       "      <td>0.998200</td>\n",
       "      <td>0.047780</td>\n",
       "      <td>0.9927</td>\n",
       "    </tr>\n",
       "  </tbody>\n",
       "</table>\n",
       "</div>"
      ],
      "text/plain": [
       "        loss  accuracy  val_loss  val_accuracy\n",
       "0   0.123216  0.960817  0.053032        0.9821\n",
       "1   0.043204  0.986817  0.035467        0.9880\n",
       "2   0.030191  0.990183  0.031807        0.9898\n",
       "3   0.023429  0.992467  0.042528        0.9868\n",
       "4   0.018867  0.993700  0.035567        0.9898\n",
       "5   0.013568  0.995700  0.027317        0.9921\n",
       "6   0.012612  0.995817  0.031371        0.9909\n",
       "7   0.010138  0.996600  0.035731        0.9908\n",
       "8   0.008290  0.997383  0.030387        0.9915\n",
       "9   0.008048  0.997200  0.032518        0.9923\n",
       "10  0.006081  0.997983  0.028627        0.9938\n",
       "11  0.006596  0.997717  0.032229        0.9934\n",
       "12  0.005799  0.998133  0.034605        0.9925\n",
       "13  0.006391  0.997950  0.036274        0.9928\n",
       "14  0.004458  0.998600  0.033195        0.9930\n",
       "15  0.004890  0.998583  0.056385        0.9906\n",
       "16  0.005492  0.998350  0.042876        0.9938\n",
       "17  0.005693  0.998300  0.043668        0.9911\n",
       "18  0.004766  0.998617  0.043226        0.9920\n",
       "19  0.004087  0.998567  0.051839        0.9926\n",
       "20  0.004841  0.998617  0.041093        0.9917\n",
       "21  0.004535  0.998600  0.060740        0.9914\n",
       "22  0.004411  0.998633  0.049145        0.9926\n",
       "23  0.003612  0.999100  0.055198        0.9920\n",
       "24  0.005932  0.998300  0.050741        0.9920\n",
       "25  0.002086  0.999450  0.048295        0.9925\n",
       "26  0.006745  0.998200  0.047780        0.9927"
      ]
     },
     "execution_count": 28,
     "metadata": {},
     "output_type": "execute_result"
    }
   ],
   "source": [
    "#Storing the results as Data Frame\n",
    "results = pd.DataFrame(model.history.history)\n",
    "results\n",
    "#loss -> loss on training set\n",
    "#accuracy -> accuracy on training set\n",
    "#val_loss -> loss on validation set\n",
    "#val_accuracy -> accuracy on validation set"
   ]
  },
  {
   "cell_type": "code",
   "execution_count": 26,
   "metadata": {},
   "outputs": [
    {
     "data": {
      "text/plain": [
       "<matplotlib.axes._subplots.AxesSubplot at 0x230e531f948>"
      ]
     },
     "execution_count": 26,
     "metadata": {},
     "output_type": "execute_result"
    },
    {
     "data": {
      "image/png": "[encoded data removed]",
      "text/plain": [
       "<Figure size 432x288 with 1 Axes>"
      ]
     },
     "metadata": {
      "needs_background": "light"
     },
     "output_type": "display_data"
    }
   ],
   "source": [
    "results[['loss','val_loss']].plot()"
   ]
  },
  {
   "cell_type": "code",
   "execution_count": 27,
   "metadata": {},
   "outputs": [
    {
     "data": {
      "text/plain": [
       "<matplotlib.axes._subplots.AxesSubplot at 0x231408a4088>"
      ]
     },
     "execution_count": 27,
     "metadata": {},
     "output_type": "execute_result"
    },
    {
     "data": {
      "image/png": "[encoded data removed]",
      "text/plain": [
       "<Figure size 432x288 with 1 Axes>"
      ]
     },
     "metadata": {
      "needs_background": "light"
     },
     "output_type": "display_data"
    }
   ],
   "source": [
    "results[['accuracy','val_accuracy']].plot()"
   ]
  },
  {
   "cell_type": "code",
   "execution_count": 21,
   "metadata": {},
   "outputs": [
    {
     "data": {
      "text/plain": [
       "array([[4.4465135e-27, 7.4386448e-27, 6.4407317e-19, ..., 1.0000000e+00,\n",
       "        1.0239128e-24, 2.8791389e-15],\n",
       "       [5.9112059e-26, 4.6253760e-25, 1.0000000e+00, ..., 9.7272557e-32,\n",
       "        4.3659871e-34, 6.1403229e-36],\n",
       "       [7.9160896e-15, 1.0000000e+00, 3.3491731e-15, ..., 1.4223156e-17,\n",
       "        2.0694197e-15, 5.7074917e-22],\n",
       "       ...,\n",
       "       [1.5106041e-38, 1.2287151e-26, 1.1030018e-27, ..., 1.4845116e-27,\n",
       "        9.7054004e-22, 1.7450785e-25],\n",
       "       [4.6449455e-27, 1.4041191e-35, 4.8963236e-32, ..., 1.2844228e-29,\n",
       "        1.5626206e-17, 1.3587692e-23],\n",
       "       [6.6874973e-19, 1.6849107e-24, 6.5672624e-19, ..., 3.8736993e-30,\n",
       "        4.3469966e-17, 1.1197453e-24]], dtype=float32)"
      ]
     },
     "execution_count": 21,
     "metadata": {},
     "output_type": "execute_result"
    }
   ],
   "source": [
    "model.predict(x_test)"
   ]
  },
  {
   "cell_type": "code",
   "execution_count": 24,
   "metadata": {},
   "outputs": [],
   "source": [
    "#Making prediction on x_test and storing the predictions and true values in a csv file \n",
    "predictions = model.predict_classes(x_test)\n",
    "\n",
    "true_values = list(y_test)\n",
    "predictions = list(predictions)\n",
    "sub = pd.DataFrame({'True Values': true_values, 'Predictions': predictions})\n",
    "sub.to_csv('./Predictions_VS_True-Values_MNIST.csv', index=False)"
   ]
  },
  {
   "cell_type": "code",
   "execution_count": null,
   "metadata": {},
   "outputs": [],
   "source": []
  }
 ],
 "metadata": {
  "kernelspec": {
   "display_name": "Python 3.7 (tensorflow)",
   "language": "python",
   "name": "tensorflow"
  },
  "language_info": {
   "codemirror_mode": {
    "name": "ipython",
    "version": 3
   },
   "file_extension": ".py",
   "mimetype": "text/x-python",
   "name": "python",
   "nbconvert_exporter": "python",
   "pygments_lexer": "ipython3",
   "version": "3.7.7"
  }
 },
 "nbformat": 4,
 "nbformat_minor": 4
}
